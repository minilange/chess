{
 "cells": [
  {
   "cell_type": "code",
   "execution_count": 30,
   "metadata": {},
   "outputs": [],
   "source": [
    "from pieces import *\n",
    "import math\n",
    "from chess_1 import Board, outside_border"
   ]
  },
  {
   "cell_type": "code",
   "execution_count": 31,
   "metadata": {},
   "outputs": [
    {
     "name": "stdout",
     "output_type": "stream",
     "text": [
      "The autoreload extension is already loaded. To reload it, use:\n",
      "  %reload_ext autoreload\n"
     ]
    }
   ],
   "source": [
    "%load_ext autoreload\n",
    "%autoreload 2"
   ]
  },
  {
   "cell_type": "code",
   "execution_count": 32,
   "metadata": {},
   "outputs": [
    {
     "name": "stdout",
     "output_type": "stream",
     "text": [
      "True\n",
      "<class 'pieces.King'> <class 'pieces.King'>\n"
     ]
    }
   ],
   "source": [
    "king1 = King(\"K\")\n",
    "king2 = King(\"k\")\n",
    "print(type(king1) == type(king2))\n",
    "print(type(king1), type(king2))"
   ]
  },
  {
   "cell_type": "code",
   "execution_count": 33,
   "metadata": {},
   "outputs": [],
   "source": [
    "board = Board(\"8/8/7q/8/8/8/8/2K5 w - - 0 1\")"
   ]
  },
  {
   "cell_type": "code",
   "execution_count": 34,
   "metadata": {},
   "outputs": [
    {
     "name": "stdout",
     "output_type": "stream",
     "text": [
      "  \u001b[4m A B C D E F G H \u001b[0m\n",
      "8| . . . . . . . . |8\n",
      "7| . . . . . . . . |7\n",
      "6| . . . . . q . . |6\n",
      "5| . . . . . . . . |5\n",
      "4| . . . . . . . . |4\n",
      "3| . . . . . . . . |3\n",
      "2| . . . . . . . . |2\n",
      "1| . . K . . . . . |1\n",
      "  ‾A̅‾B̅‾C̅‾D̅‾E̅‾F̅‾G̅‾H̅‾\n"
     ]
    }
   ],
   "source": [
    "board.display()"
   ]
  },
  {
   "cell_type": "code",
   "execution_count": 35,
   "metadata": {},
   "outputs": [
    {
     "data": {
      "text/plain": [
       "(0, [])"
      ]
     },
     "execution_count": 35,
     "metadata": {},
     "output_type": "execute_result"
    }
   ],
   "source": [
    "board.num_king_pinned()"
   ]
  },
  {
   "cell_type": "code",
   "execution_count": 36,
   "metadata": {},
   "outputs": [
    {
     "name": "stdout",
     "output_type": "stream",
     "text": [
      "21\n"
     ]
    },
    {
     "data": {
      "text/plain": [
       "[0,\n",
       " 3,\n",
       " 5,\n",
       " 7,\n",
       " 12,\n",
       " 13,\n",
       " 14,\n",
       " 16,\n",
       " 17,\n",
       " 18,\n",
       " 19,\n",
       " 20,\n",
       " 22,\n",
       " 23,\n",
       " 28,\n",
       " 29,\n",
       " 30,\n",
       " 35,\n",
       " 37,\n",
       " 39,\n",
       " 42,\n",
       " 45,\n",
       " 48,\n",
       " 49,\n",
       " 53,\n",
       " 56,\n",
       " 57,\n",
       " 61,\n",
       " 63]"
      ]
     },
     "execution_count": 36,
     "metadata": {},
     "output_type": "execute_result"
    }
   ],
   "source": [
    "board.get_opponent_move_mask()"
   ]
  },
  {
   "cell_type": "code",
   "execution_count": 38,
   "metadata": {},
   "outputs": [
    {
     "data": {
      "text/plain": [
       "[13,\n",
       " 5,\n",
       " 14,\n",
       " 7,\n",
       " 0,\n",
       " 20,\n",
       " 19,\n",
       " 18,\n",
       " 17,\n",
       " 16,\n",
       " 22,\n",
       " 23,\n",
       " 28,\n",
       " 35,\n",
       " 42,\n",
       " 49,\n",
       " 56,\n",
       " 63,\n",
       " 29,\n",
       " 37,\n",
       " 45,\n",
       " 53,\n",
       " 61,\n",
       " 30,\n",
       " 39,\n",
       " 48,\n",
       " 57,\n",
       " 12,\n",
       " 3]"
      ]
     },
     "execution_count": 38,
     "metadata": {},
     "output_type": "execute_result"
    }
   ],
   "source": [
    "board.get_all_piece_moves(21, board.board)"
   ]
  },
  {
   "cell_type": "code",
   "execution_count": 40,
   "metadata": {},
   "outputs": [
    {
     "name": "stdout",
     "output_type": "stream",
     "text": [
      "  \u001b[4m A B C D E F G H \u001b[0m\n",
      "8| # . . # . # . # |8\n",
      "7| . . . . # # # . |7\n",
      "6| # # # # # . # # |6\n",
      "5| . . . . # # # . |5\n",
      "4| . . . # . # . # |4\n",
      "3| . . # . . # . . |3\n",
      "2| # # . . . # . . |2\n",
      "1| # # . . . # . # |1\n",
      "  ‾A̅‾B̅‾C̅‾D̅‾E̅‾F̅‾G̅‾H̅‾\n"
     ]
    }
   ],
   "source": [
    "tmp = [None for i in range(64)]\n",
    "\n",
    "for move in board.get_all_piece_moves(21, board.board):\n",
    "    tmp[move] = \"#\"\n",
    "\n",
    "board.display(tmp)"
   ]
  },
  {
   "cell_type": "code",
   "execution_count": null,
   "metadata": {},
   "outputs": [],
   "source": [
    "def outside_border(total, pos, offset):\n",
    "    return ((total % 8 == 7 and ((pos % 8 == 0 and math.floor(total / 8) != math.floor(pos / 8)) or offset + pos % 8 == 0)) or\n",
    "            (total % 8 == 0 and ((pos % 8 == 7 and math.floor(total / 8) != math.floor(pos / 8)) or offset + pos % 8 == 7)))\n"
   ]
  },
  {
   "cell_type": "code",
   "execution_count": null,
   "metadata": {},
   "outputs": [],
   "source": []
  }
 ],
 "metadata": {
  "kernelspec": {
   "display_name": "Python 3.10.4 64-bit",
   "language": "python",
   "name": "python3"
  },
  "language_info": {
   "codemirror_mode": {
    "name": "ipython",
    "version": 3
   },
   "file_extension": ".py",
   "mimetype": "text/x-python",
   "name": "python",
   "nbconvert_exporter": "python",
   "pygments_lexer": "ipython3",
   "version": "3.10.4"
  },
  "orig_nbformat": 4,
  "vscode": {
   "interpreter": {
    "hash": "7bd97ddf934c62eb53e45b27728dd5c1c7116d37bcca029015996c339ea10a61"
   }
  }
 },
 "nbformat": 4,
 "nbformat_minor": 2
}
