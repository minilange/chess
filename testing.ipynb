{
 "cells": [
  {
   "cell_type": "code",
   "execution_count": 2,
   "metadata": {},
   "outputs": [],
   "source": [
    "from pieces import *\n",
    "import math\n",
    "from chess_1 import Board, outside_border\n",
    "from copy import deepcopy\n",
    "%load_ext autoreload\n",
    "%autoreload 2"
   ]
  },
  {
   "cell_type": "code",
   "execution_count": 3,
   "metadata": {},
   "outputs": [
    {
     "name": "stdout",
     "output_type": "stream",
     "text": [
      "True\n",
      "<class 'pieces.King'> <class 'pieces.King'>\n"
     ]
    }
   ],
   "source": [
    "king1 = King(\"K\")\n",
    "king2 = King(\"k\")\n",
    "print(type(king1) == type(king2))\n",
    "print(type(king1), type(king2))"
   ]
  },
  {
   "cell_type": "code",
   "execution_count": 4,
   "metadata": {},
   "outputs": [],
   "source": [
    "board = Board(\"k7/8/8/2q5/8/8/8/2K4r w - - 0 1\")"
   ]
  },
  {
   "cell_type": "code",
   "execution_count": 5,
   "metadata": {},
   "outputs": [
    {
     "name": "stdout",
     "output_type": "stream",
     "text": [
      "  \u001b[4m A B C D E F G H \u001b[0m\n",
      "8| k . . . . . . . |8\n",
      "7| . . . . . . . . |7\n",
      "6| . . . . . . . . |6\n",
      "5| . . q . . . . . |5\n",
      "4| . . . . . . . . |4\n",
      "3| . . . . . . . . |3\n",
      "2| . . . . . . . . |2\n",
      "1| . . K . . . . r |1\n",
      "  ‾A̅‾B̅‾C̅‾D̅‾E̅‾F̅‾G̅‾H̅‾\n"
     ]
    }
   ],
   "source": [
    "board.display()"
   ]
  },
  {
   "cell_type": "code",
   "execution_count": 6,
   "metadata": {},
   "outputs": [],
   "source": [
    "# board.num_king_pinned(board.board)"
   ]
  },
  {
   "cell_type": "code",
   "execution_count": null,
   "metadata": {},
   "outputs": [],
   "source": [
    "# board.get_all_piece_moves(7, board.board)"
   ]
  },
  {
   "cell_type": "markdown",
   "metadata": {},
   "source": [
    "   A B C D E F G H \n",
    "8| . . b k . . . . |8\n",
    "7| P . . . . p . . |7\n",
    "6| P . p . N . . . |6\n",
    "5| . . n p . . b . |5\n",
    "4| q . . . . N P . |4\n",
    "3| . Q p . . . . p |3\n",
    "2| n . . . . P . P |2\n",
    "1| . K . . R R . . |1\n",
    "  ‾A̅‾B̅‾C̅‾D̅‾E̅‾F̅‾G̅‾H̅‾\n",
    "\n",
    "   A B C D E F G H \n",
    "8| . . b k . . . . |8\n",
    "7| P . . . . p . . |7\n",
    "6| P . p . N b . . |6\n",
    "5| . . n p . . . . |5\n",
    "4| q . . . . N P . |4\n",
    "3| . Q p . . . . p |3\n",
    "2| n . . . . P . P |2\n",
    "1| . K . . R R . . |1\n",
    "  ‾A̅‾B̅‾C̅‾D̅‾E̅‾F̅‾G̅‾H̅‾"
   ]
  },
  {
   "cell_type": "code",
   "execution_count": 60,
   "metadata": {},
   "outputs": [
    {
     "name": "stdout",
     "output_type": "stream",
     "text": [
      "  \u001b[4m A B C D E F G H \u001b[0m\n",
      "8| k . b n . . . . |8\n",
      "7| P . . . . p . . |7\n",
      "6| P . p . N b . . |6\n",
      "5| . . n p . . . . |5\n",
      "4| q . . . . N P . |4\n",
      "3| . Q p . . . . p |3\n",
      "2| n . . . . P . P |2\n",
      "1| . K . . R R . . |1\n",
      "  ‾A̅‾B̅‾C̅‾D̅‾E̅‾F̅‾G̅‾H̅‾\n"
     ]
    }
   ],
   "source": [
    "# board = Board(\"r1q2P2/3k4/np2p3/1P6/1R1p4/p2B1Np1/P1pK1P2/2Q4R\")\n",
    "board = Board(\"k1bn4/P4p2/P1p1Nb2/2np4/q4NP1/1Qp4p/n4P1P/1K2RR2\")\n",
    "# board = Board()\n",
    "\n",
    "# tmp = [None for _ in range(64)]\n",
    "\n",
    "\n",
    "# board.make_move(50, 34, board.board)\n",
    "\n",
    "# print(board.get_special_pawn_moves(35, board.board))\n",
    "\n",
    "# for move in board.get_all_legal_moves_for_pos(51):\n",
    "# _, blacks = board.get_board_pieces(board=board.board)\n",
    "\n",
    "# for piece in blacks:\n",
    "#     tmp = [None for _ in range(64)]\n",
    "#     for move in board.get_all_legal_moves_for_pos(piece):\n",
    "#         tmp[move] = \"#\"\n",
    "#     tmp[piece] = board.board[piece]\n",
    "#     board.display(tmp)\n",
    "\n",
    "# tmp = [None for _ in range(64)]\n",
    "\n",
    "# for move in board.get_king_moves(51):\n",
    "#     tmp[move] = \"#\"\n",
    "# board.display(tmp)\n",
    "\n",
    "board.display()\n",
    "# print(board.num_king_pinned())"
   ]
  },
  {
   "cell_type": "code",
   "execution_count": 61,
   "metadata": {},
   "outputs": [],
   "source": [
    "board.turn = False\n",
    "whites, blacks = board.get_board_pieces(board.board)\n",
    "\n",
    "for piece in whites:\n",
    "    board.board[piece].have_moved = True\n",
    "\n",
    "for piece in blacks:\n",
    "    board.board[piece].have_moved = True"
   ]
  },
  {
   "cell_type": "code",
   "execution_count": 62,
   "metadata": {},
   "outputs": [
    {
     "name": "stdout",
     "output_type": "stream",
     "text": [
      "  \u001b[4m A B C D E F G H \u001b[0m\n",
      "8| # # . # . . . # |8\n",
      "7| . # # . . . # . |7\n",
      "6| . # . . . . . . |6\n",
      "5| . # # # # # # # |5\n",
      "4| # # # # # . . . |4\n",
      "3| # . # . # # # # |3\n",
      "2| # # # . # . # . |2\n",
      "1| # . # # . . # # |1\n",
      "  ‾A̅‾B̅‾C̅‾D̅‾E̅‾F̅‾G̅‾H̅‾\n",
      "0\n"
     ]
    }
   ],
   "source": [
    "tmp = [None for _ in range(64)]\n",
    "\n",
    "for move in board.get_opponent_move_mask(board.board):\n",
    "    tmp[move] = \"#\"\n",
    "board.display(tmp)\n",
    "\n",
    "\n",
    "tmp = [None for _ in range(64)]\n",
    "\n",
    "for move in board.get_all_legal_moves_for_pos(20):\n",
    "    tmp[move] = \"#\"\n",
    "board.display(tmp)\n",
    "\n",
    "pins,_ = board.num_king_pinned(board.board)\n",
    "print(pins)"
   ]
  },
  {
   "cell_type": "code",
   "execution_count": null,
   "metadata": {},
   "outputs": [
    {
     "name": "stdout",
     "output_type": "stream",
     "text": [
      "[<pieces.Rook object at 0x000001230C7E5A80>, <pieces.King object at 0x000001230C7E63E0>, <pieces.Queen object at 0x000001230C7E64A0>, <pieces.Pawn object at 0x000001230C7E61D0>, <pieces.Bishop object at 0x000001230C7E6BC0>]\n"
     ]
    }
   ],
   "source": [
    "tmp_lst = [board.board[63], board.board[51], board.board[58], board.board[53], board.board[43]]\n",
    "print(tmp_lst)"
   ]
  },
  {
   "cell_type": "code",
   "execution_count": null,
   "metadata": {},
   "outputs": [
    {
     "name": "stdout",
     "output_type": "stream",
     "text": [
      "[<pieces.King object at 0x000001230C7E63E0>, <pieces.Queen object at 0x000001230C7E64A0>, <pieces.Bishop object at 0x000001230C7E6BC0>, <pieces.Rook object at 0x000001230C7E5A80>, <pieces.Pawn object at 0x000001230C7E61D0>]\n"
     ]
    }
   ],
   "source": [
    "tmp_lst.sort(key=sort_piece_func)\n",
    "print(tmp_lst)"
   ]
  },
  {
   "cell_type": "code",
   "execution_count": null,
   "metadata": {},
   "outputs": [
    {
     "data": {
      "text/plain": [
       "False"
      ]
     },
     "execution_count": 13,
     "metadata": {},
     "output_type": "execute_result"
    }
   ],
   "source": [
    "\"a\".isupper()"
   ]
  },
  {
   "cell_type": "markdown",
   "metadata": {},
   "source": [
    "https://www.chess.com/terms/draw-chess"
   ]
  },
  {
   "cell_type": "code",
   "execution_count": null,
   "metadata": {},
   "outputs": [],
   "source": []
  }
 ],
 "metadata": {
  "kernelspec": {
   "display_name": "Python 3.10.4 64-bit",
   "language": "python",
   "name": "python3"
  },
  "language_info": {
   "codemirror_mode": {
    "name": "ipython",
    "version": 3
   },
   "file_extension": ".py",
   "mimetype": "text/x-python",
   "name": "python",
   "nbconvert_exporter": "python",
   "pygments_lexer": "ipython3",
   "version": "3.10.4"
  },
  "orig_nbformat": 4,
  "vscode": {
   "interpreter": {
    "hash": "7bd97ddf934c62eb53e45b27728dd5c1c7116d37bcca029015996c339ea10a61"
   }
  }
 },
 "nbformat": 4,
 "nbformat_minor": 2
}
