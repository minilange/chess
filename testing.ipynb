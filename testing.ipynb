{
 "cells": [
  {
   "cell_type": "code",
   "execution_count": 2,
   "metadata": {},
   "outputs": [],
   "source": [
    "from pieces import *\n",
    "import math\n",
    "from chess_1 import Board, outside_border\n",
    "from copy import deepcopy\n",
    "%load_ext autoreload\n",
    "%autoreload 2"
   ]
  },
  {
   "cell_type": "markdown",
   "metadata": {},
   "source": [
    "   A B C D E F G H \n",
    "8| . . . . r . N . |8\n",
    "7| . . . . . . . . |7\n",
    "6| B . . . . k . . |6\n",
    "5| . . P . . . . . |5\n",
    "4| . . . . . . . . |4\n",
    "3| . q . . R . B . |3\n",
    "2| . . . . . . . . |2\n",
    "1| . . . b K . . . |1\n",
    "  ‾A̅‾B̅‾C̅‾D̅‾E̅‾F̅‾G̅‾H̅‾"
   ]
  },
  {
   "cell_type": "code",
   "execution_count": 9,
   "metadata": {},
   "outputs": [
    {
     "name": "stdout",
     "output_type": "stream",
     "text": [
      "  \u001b[4m A B C D E F G H \u001b[0m\n",
      "8| r . . . . . . . |8\n",
      "7| . . . . . . . . |7\n",
      "6| . . . . . . . . |6\n",
      "5| . . . . . . . . |5\n",
      "4| . . . . . . . . |4\n",
      "3| . . . . . . . . |3\n",
      "2| . . . . . . . . |2\n",
      "1| . . . . . . . . |1\n",
      "  ‾A̅‾B̅‾C̅‾D̅‾E̅‾F̅‾G̅‾H̅‾\n",
      "  \u001b[4m A B C D E F G H \u001b[0m\n",
      "8| . . . . . . . r |8\n",
      "7| . . . . . . . . |7\n",
      "6| . . . . . . . . |6\n",
      "5| . . . . . . . . |5\n",
      "4| . . . . . . . . |4\n",
      "3| . . . . . . . . |3\n",
      "2| . . . . . . . . |2\n",
      "1| . . . . . . . . |1\n",
      "  ‾A̅‾B̅‾C̅‾D̅‾E̅‾F̅‾G̅‾H̅‾\n",
      "  \u001b[4m A B C D E F G H \u001b[0m\n",
      "8| . . . . . . . . |8\n",
      "7| . b . . . . . . |7\n",
      "6| . . . . . . . . |6\n",
      "5| . . . . . . . . |5\n",
      "4| . . . . . . . . |4\n",
      "3| . . . . . . . . |3\n",
      "2| . . . . . . . . |2\n",
      "1| . . . . . . . . |1\n",
      "  ‾A̅‾B̅‾C̅‾D̅‾E̅‾F̅‾G̅‾H̅‾\n",
      "  \u001b[4m A B C D E F G H \u001b[0m\n",
      "8| . . . . # # . . |8\n",
      "7| . . . # k # . . |7\n",
      "6| . . . # # . . . |6\n",
      "5| . . . . . . . . |5\n",
      "4| . . . . . . . . |4\n",
      "3| . . . . . . . . |3\n",
      "2| . . . . . . . . |2\n",
      "1| . . . . . . . . |1\n",
      "  ‾A̅‾B̅‾C̅‾D̅‾E̅‾F̅‾G̅‾H̅‾\n",
      "  \u001b[4m A B C D E F G H \u001b[0m\n",
      "8| . . . . . . . . |8\n",
      "7| . . . . . . b . |7\n",
      "6| . . . . . # . . |6\n",
      "5| . . . . . . . . |5\n",
      "4| . . . . . . . . |4\n",
      "3| . . . . . . . . |3\n",
      "2| . . . . . . . . |2\n",
      "1| . . . . . . . . |1\n",
      "  ‾A̅‾B̅‾C̅‾D̅‾E̅‾F̅‾G̅‾H̅‾\n",
      "  \u001b[4m A B C D E F G H \u001b[0m\n",
      "8| . . . . . . . . |8\n",
      "7| . . . . . . . q |7\n",
      "6| . . . . . . . . |6\n",
      "5| . . . . . . . . |5\n",
      "4| . . . . . . . # |4\n",
      "3| . . . . . . . . |3\n",
      "2| . . . . . . . . |2\n",
      "1| . . . . . . . . |1\n",
      "  ‾A̅‾B̅‾C̅‾D̅‾E̅‾F̅‾G̅‾H̅‾\n"
     ]
    }
   ],
   "source": [
    "# board = Board(\"r1q2P2/3k4/np2p3/1P6/1R1p4/p2B1Np1/P1pK1P2/2Q4R\")\n",
    "# board = Board(\"k1bn4/P4p2/P1p1Nb2/2np4/q4NP1/1Qp4p/n4P1P/1K2RR2\")\n",
    "board = Board(\"r6r/1b2k1bq/8/8/7B/8/8/R3K2R b KQ - 3 2\")\n",
    "# board = Board()\n",
    "\n",
    "# tmp = [None for _ in range(64)]\n",
    "\n",
    "# board.make_move(50, 34, board.board)\n",
    "\n",
    "# print(board.get_special_pawn_moves(35, board.board))\n",
    "\n",
    "# for move in board.get_all_legal_moves_for_pos(51):\n",
    "_, blacks = board.get_board_pieces(board=board.board)\n",
    "\n",
    "\n",
    "for piece in blacks:\n",
    "    tmp = [None for _ in range(64)]\n",
    "    for move in board.get_all_legal_moves_for_pos(piece):\n",
    "        tmp[move] = \"#\"\n",
    "    tmp[piece] = board.board[piece]\n",
    "    board.display(tmp)\n",
    "\n",
    "# tmp = [None for _ in range(64)]\n",
    "\n",
    "# for move in board.get_king_moves(51):\n",
    "#     tmp[move] = \"#\"\n",
    "# board.display(tmp)\n",
    "\n",
    "# board.display()\n",
    "# print(board.num_king_pinned())"
   ]
  },
  {
   "cell_type": "code",
   "execution_count": 10,
   "metadata": {},
   "outputs": [
    {
     "name": "stdout",
     "output_type": "stream",
     "text": [
      "r6r/1b2k1bq/8/8/7B/8/8/R3K2R b KQ- 3 2\n"
     ]
    }
   ],
   "source": [
    "print(board.export_fen_notation())\n",
    "\n",
    "# 8/8/8/2k5/2pP4/8/B7/4K3 b - d3 0 3\n",
    "# 8/8/8/2k5/2pP4/8/B7/4K3 b - d3 0 3"
   ]
  },
  {
   "cell_type": "code",
   "execution_count": 11,
   "metadata": {},
   "outputs": [],
   "source": [
    "board.turn = True\n",
    "# whites, blacks = board.get_board_pieces(board.board)\n",
    "\n",
    "# for piece in whites:\n",
    "#     board.board[piece].have_moved = True\n",
    "\n",
    "# for piece in blacks:\n",
    "#     board.board[piece].have_moved = True"
   ]
  },
  {
   "cell_type": "code",
   "execution_count": 28,
   "metadata": {},
   "outputs": [
    {
     "name": "stdout",
     "output_type": "stream",
     "text": [
      "  \u001b[4m A B C D E F G H \u001b[0m\n",
      "8| . . . . . . . . |8\n",
      "7| X . # . . . . . |7\n",
      "6| . . . # . . . . |6\n",
      "5| . N . . . . . . |5\n",
      "4| . . . # . . . . |4\n",
      "3| # . # . . . . . |3\n",
      "2| . . . . . . . . |2\n",
      "1| . . . . . . . . |1\n",
      "  ‾A̅‾B̅‾C̅‾D̅‾E̅‾F̅‾G̅‾H̅‾\n",
      "  \u001b[4m A B C D E F G H \u001b[0m\n",
      "8| . . . . . . . . |8\n",
      "7| X . . . . . . . |7\n",
      "6| # . . . . . . . |6\n",
      "5| # . . . . . . . |5\n",
      "4| Q # # # # . . . |4\n",
      "3| # # . . . . . . |3\n",
      "2| . . # . . . . . |2\n",
      "1| . . . # . . . . |1\n",
      "  ‾A̅‾B̅‾C̅‾D̅‾E̅‾F̅‾G̅‾H̅‾\n",
      "  \u001b[4m A B C D E F G H \u001b[0m\n",
      "8| . # . . . . . . |8\n",
      "7| . . # . . . . . |7\n",
      "6| . . . # . . . # |6\n",
      "5| . . . . # . # . |5\n",
      "4| . . . . . B . . |4\n",
      "3| . . . . # . . . |3\n",
      "2| . . . # . . . . |2\n",
      "1| . . . . . . . . |1\n",
      "  ‾A̅‾B̅‾C̅‾D̅‾E̅‾F̅‾G̅‾H̅‾\n",
      "  \u001b[4m A B C D E F G H \u001b[0m\n",
      "8| . . . . . . . . |8\n",
      "7| . . . . . . . . |7\n",
      "6| . . . . . . . . |6\n",
      "5| . . . . . . . . |5\n",
      "4| . . . . . . # . |4\n",
      "3| . . . . . . P . |3\n",
      "2| . . . . . . . . |2\n",
      "1| . . . . . . . . |1\n",
      "  ‾A̅‾B̅‾C̅‾D̅‾E̅‾F̅‾G̅‾H̅‾\n",
      "  \u001b[4m A B C D E F G H \u001b[0m\n",
      "8| . . . . . . . . |8\n",
      "7| . . . . . . . . |7\n",
      "6| . . . . . . . . |6\n",
      "5| . . . . . . . . |5\n",
      "4| . . . . . . . . |4\n",
      "3| # . . . . . . . |3\n",
      "2| P . . . . . . . |2\n",
      "1| . . . . . . . . |1\n",
      "  ‾A̅‾B̅‾C̅‾D̅‾E̅‾F̅‾G̅‾H̅‾\n",
      "  \u001b[4m A B C D E F G H \u001b[0m\n",
      "8| . . . . . . . . |8\n",
      "7| . . . . . . . . |7\n",
      "6| . . . . . . . . |6\n",
      "5| . . . . . . . . |5\n",
      "4| . # . . . . . . |4\n",
      "3| . # . . . . . . |3\n",
      "2| . P . . . . . . |2\n",
      "1| . . . . . . . . |1\n",
      "  ‾A̅‾B̅‾C̅‾D̅‾E̅‾F̅‾G̅‾H̅‾\n",
      "  \u001b[4m A B C D E F G H \u001b[0m\n",
      "8| . . . . . . . . |8\n",
      "7| . . . . . . . . |7\n",
      "6| . . . . . . . . |6\n",
      "5| . . . . . . . . |5\n",
      "4| . . . . # . . . |4\n",
      "3| . . . . # . . . |3\n",
      "2| . . . . P . . . |2\n",
      "1| . . . . . . . . |1\n",
      "  ‾A̅‾B̅‾C̅‾D̅‾E̅‾F̅‾G̅‾H̅‾\n",
      "  \u001b[4m A B C D E F G H \u001b[0m\n",
      "8| . . . . . . . . |8\n",
      "7| . . . . . . . . |7\n",
      "6| . . . . . . . . |6\n",
      "5| . . . . . . . . |5\n",
      "4| . . . . . . . . |4\n",
      "3| . . . . . # . . |3\n",
      "2| . . . . . P . . |2\n",
      "1| . . . . . . . . |1\n",
      "  ‾A̅‾B̅‾C̅‾D̅‾E̅‾F̅‾G̅‾H̅‾\n",
      "  \u001b[4m A B C D E F G H \u001b[0m\n",
      "8| . . . . . . . . |8\n",
      "7| . . . . . . . . |7\n",
      "6| . . . . . . . . |6\n",
      "5| . . . . . . . . |5\n",
      "4| . . . . . . . . |4\n",
      "3| . . . . . # . . |3\n",
      "2| . . . . . . K . |2\n",
      "1| . . . . . # # # |1\n",
      "  ‾A̅‾B̅‾C̅‾D̅‾E̅‾F̅‾G̅‾H̅‾\n",
      "  \u001b[4m A B C D E F G H \u001b[0m\n",
      "8| . . . . . . . . |8\n",
      "7| . . . . . . . . |7\n",
      "6| . . . . . . . . |6\n",
      "5| . . . . . . . . |5\n",
      "4| . . . . . . . # |4\n",
      "3| . . . . . . . # |3\n",
      "2| . . . . . . . P |2\n",
      "1| . . . . . . . . |1\n",
      "  ‾A̅‾B̅‾C̅‾D̅‾E̅‾F̅‾G̅‾H̅‾\n",
      "  \u001b[4m A B C D E F G H \u001b[0m\n",
      "8| . . . . . . . . |8\n",
      "7| . . . . . . . . |7\n",
      "6| . . . . . . . . |6\n",
      "5| . . . . . . . . |5\n",
      "4| . . . . . . . . |4\n",
      "3| . . . . . . . . |3\n",
      "2| . . . . . . . . |2\n",
      "1| R . . . . . . . |1\n",
      "  ‾A̅‾B̅‾C̅‾D̅‾E̅‾F̅‾G̅‾H̅‾\n",
      "  \u001b[4m A B C D E F G H \u001b[0m\n",
      "8| . . . . . . . . |8\n",
      "7| . . . . . . . . |7\n",
      "6| . . . . . . . . |6\n",
      "5| . . . . . . . . |5\n",
      "4| . . . . . . . . |4\n",
      "3| # . # . . . . . |3\n",
      "2| . . . # . . . . |2\n",
      "1| . N . . . . . . |1\n",
      "  ‾A̅‾B̅‾C̅‾D̅‾E̅‾F̅‾G̅‾H̅‾\n",
      "  \u001b[4m A B C D E F G H \u001b[0m\n",
      "8| . . . . . . . . |8\n",
      "7| . . . . . . . . |7\n",
      "6| . . . . . . . . |6\n",
      "5| . . X . . . . . |5\n",
      "4| . . # . . . . . |4\n",
      "3| . . # . . . . . |3\n",
      "2| . . # . . . . . |2\n",
      "1| . . R # # # # # |1\n",
      "  ‾A̅‾B̅‾C̅‾D̅‾E̅‾F̅‾G̅‾H̅‾\n"
     ]
    }
   ],
   "source": [
    "tmp = [None for _ in range(64)]\n",
    "\n",
    "# for move in board.get_opponent_move_mask(board.board):\n",
    "#     tmp[move] = \"#\"\n",
    "# board.display(tmp)\n",
    "\n",
    "board = Board(\"2r1k2r/p2q1ppp/1pn2n2/1Nbp4/Q4B2/6P1/PP2PPKP/RNR5 w k - 0 14\")\n",
    "\n",
    "white, black = board.get_board_pieces(board.board)\n",
    "\n",
    "for piece in white if board.turn else black:\n",
    "    tmp = [None for _ in range(64)]\n",
    "    # print(piece)\n",
    "    for move in board.get_all_legal_moves_for_pos(piece):\n",
    "        if board.board[move] is None:\n",
    "            tmp[move] = \"#\"\n",
    "        else:\n",
    "            tmp[move] = \"X\"\n",
    "\n",
    "    tmp[piece] = board.board[piece]\n",
    "    board.display(tmp)\n",
    "\n",
    "\n",
    "\n",
    "# print(board.board[35].en_passant)\n",
    "\n",
    "# pins,_ = board.num_king_pinned(board.board)\n",
    "# print(pins)"
   ]
  },
  {
   "cell_type": "code",
   "execution_count": 13,
   "metadata": {},
   "outputs": [
    {
     "name": "stdout",
     "output_type": "stream",
     "text": [
      "[None, None, None, None, None]\n"
     ]
    }
   ],
   "source": [
    "tmp_lst = [board.board[63], board.board[51], board.board[58], board.board[53], board.board[43]]\n",
    "print(tmp_lst)"
   ]
  },
  {
   "cell_type": "code",
   "execution_count": 14,
   "metadata": {},
   "outputs": [
    {
     "data": {
      "text/plain": [
       "False"
      ]
     },
     "execution_count": 14,
     "metadata": {},
     "output_type": "execute_result"
    }
   ],
   "source": [
    "\"a\".isupper()"
   ]
  },
  {
   "attachments": {},
   "cell_type": "markdown",
   "metadata": {},
   "source": [
    "https://www.chess.com/terms/draw-chess#threefold-repetition\n",
    "\n",
    "https://towardsdatascience.com/train-your-own-chess-ai-66b9ca8d71e4\n",
    "\n",
    "https://towardsdatascience.com/implementing-a-deep-learning-chess-engine-from-scratch-275e5c9b9e21"
   ]
  },
  {
   "cell_type": "code",
   "execution_count": 15,
   "metadata": {},
   "outputs": [],
   "source": [
    "# 129.43395\n",
    "# 83.259934\n",
    "# 8.4488120\n",
    "# 744.28040"
   ]
  },
  {
   "cell_type": "code",
   "execution_count": null,
   "metadata": {},
   "outputs": [],
   "source": []
  }
 ],
 "metadata": {
  "kernelspec": {
   "display_name": "Python 3.10.4 64-bit",
   "language": "python",
   "name": "python3"
  },
  "language_info": {
   "codemirror_mode": {
    "name": "ipython",
    "version": 3
   },
   "file_extension": ".py",
   "mimetype": "text/x-python",
   "name": "python",
   "nbconvert_exporter": "python",
   "pygments_lexer": "ipython3",
   "version": "3.10.4 (tags/v3.10.4:9d38120, Mar 23 2022, 23:13:41) [MSC v.1929 64 bit (AMD64)]"
  },
  "orig_nbformat": 4,
  "vscode": {
   "interpreter": {
    "hash": "7bd97ddf934c62eb53e45b27728dd5c1c7116d37bcca029015996c339ea10a61"
   }
  }
 },
 "nbformat": 4,
 "nbformat_minor": 2
}
