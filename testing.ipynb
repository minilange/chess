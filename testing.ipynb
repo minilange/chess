{
 "cells": [
  {
   "cell_type": "code",
   "execution_count": 121,
   "metadata": {},
   "outputs": [],
   "source": [
    "from pieces import *\n",
    "import math\n",
    "from chess_1 import Board, outside_border\n",
    "from copy import deepcopy"
   ]
  },
  {
   "cell_type": "code",
   "execution_count": 29,
   "metadata": {},
   "outputs": [
    {
     "name": "stdout",
     "output_type": "stream",
     "text": [
      "The autoreload extension is already loaded. To reload it, use:\n",
      "  %reload_ext autoreload\n"
     ]
    }
   ],
   "source": [
    "%load_ext autoreload\n",
    "%autoreload 2"
   ]
  },
  {
   "cell_type": "code",
   "execution_count": 30,
   "metadata": {},
   "outputs": [
    {
     "name": "stdout",
     "output_type": "stream",
     "text": [
      "True\n",
      "<class 'pieces.King'> <class 'pieces.King'>\n"
     ]
    }
   ],
   "source": [
    "king1 = King(\"K\")\n",
    "king2 = King(\"k\")\n",
    "print(type(king1) == type(king2))\n",
    "print(type(king1), type(king2))"
   ]
  },
  {
   "cell_type": "code",
   "execution_count": 112,
   "metadata": {},
   "outputs": [],
   "source": [
    "board = Board(\"8/8/8/2q5/8/8/8/2K4r w - - 0 1\")"
   ]
  },
  {
   "cell_type": "code",
   "execution_count": 113,
   "metadata": {},
   "outputs": [
    {
     "name": "stdout",
     "output_type": "stream",
     "text": [
      "  \u001b[4m A B C D E F G H \u001b[0m\n",
      "8| . . . . . . . . |8\n",
      "7| . . . . . . . . |7\n",
      "6| . . . . . . . . |6\n",
      "5| . . q . . . . . |5\n",
      "4| . . . . . . . . |4\n",
      "3| . . . . . . . . |3\n",
      "2| . . . . . . . . |2\n",
      "1| . . K . . . . r |1\n",
      "  ‾A̅‾B̅‾C̅‾D̅‾E̅‾F̅‾G̅‾H̅‾\n"
     ]
    }
   ],
   "source": [
    "board.display()"
   ]
  },
  {
   "cell_type": "code",
   "execution_count": 97,
   "metadata": {},
   "outputs": [
    {
     "data": {
      "text/plain": [
       "(0, [])"
      ]
     },
     "execution_count": 97,
     "metadata": {},
     "output_type": "execute_result"
    }
   ],
   "source": [
    "board.num_king_pinned()"
   ]
  },
  {
   "cell_type": "code",
   "execution_count": 98,
   "metadata": {},
   "outputs": [
    {
     "data": {
      "text/plain": [
       "[3, 35, 59, 11, 43, 16, 17, 18, 51, 20, 21, 22, 23, 27]"
      ]
     },
     "execution_count": 98,
     "metadata": {},
     "output_type": "execute_result"
    }
   ],
   "source": [
    "board.get_opponent_move_mask()"
   ]
  },
  {
   "cell_type": "code",
   "execution_count": 99,
   "metadata": {},
   "outputs": [
    {
     "ename": "AttributeError",
     "evalue": "'NoneType' object has no attribute 'pattern'",
     "output_type": "error",
     "traceback": [
      "\u001b[1;31m---------------------------------------------------------------------------\u001b[0m",
      "\u001b[1;31mAttributeError\u001b[0m                            Traceback (most recent call last)",
      "\u001b[1;32mc:\\Code fun\\chess\\testing.ipynb Cell 8\u001b[0m in \u001b[0;36m<cell line: 1>\u001b[1;34m()\u001b[0m\n\u001b[1;32m----> <a href='vscode-notebook-cell:/c%3A/Code%20fun/chess/testing.ipynb#X10sZmlsZQ%3D%3D?line=0'>1</a>\u001b[0m board\u001b[39m.\u001b[39;49mget_all_piece_moves(\u001b[39m20\u001b[39;49m, board\u001b[39m.\u001b[39;49mboard)\n",
      "File \u001b[1;32mc:\\Code fun\\chess\\chess_1.py:52\u001b[0m, in \u001b[0;36mBoard.get_all_piece_moves\u001b[1;34m(self, piece_pos, board)\u001b[0m\n\u001b[0;32m     48\u001b[0m possible_moves \u001b[39m=\u001b[39m []\n\u001b[0;32m     50\u001b[0m piece \u001b[39m=\u001b[39m board[piece_pos]\n\u001b[1;32m---> 52\u001b[0m pattern \u001b[39m=\u001b[39m piece\u001b[39m.\u001b[39;49mpattern\n\u001b[0;32m     54\u001b[0m \u001b[39m# Checks if piece is a pawn\u001b[39;00m\n\u001b[0;32m     55\u001b[0m \u001b[39m# if isinstance(piece, Pawn):\u001b[39;00m\n\u001b[0;32m     56\u001b[0m \n\u001b[1;32m   (...)\u001b[0m\n\u001b[0;32m     67\u001b[0m \n\u001b[0;32m     68\u001b[0m \u001b[39m# Iterate through every direction in patterns\u001b[39;00m\n\u001b[0;32m     69\u001b[0m \u001b[39mfor\u001b[39;00m \u001b[39mdir\u001b[39m \u001b[39min\u001b[39;00m pattern:\n\u001b[0;32m     70\u001b[0m \n\u001b[0;32m     71\u001b[0m     \u001b[39m# Iterate through every move in direction\u001b[39;00m\n",
      "\u001b[1;31mAttributeError\u001b[0m: 'NoneType' object has no attribute 'pattern'"
     ]
    }
   ],
   "source": [
    "board.get_all_piece_moves(20, board.board)"
   ]
  },
  {
   "cell_type": "code",
   "execution_count": 163,
   "metadata": {},
   "outputs": [
    {
     "name": "stdout",
     "output_type": "stream",
     "text": [
      "  \u001b[4m A B C D E F G H \u001b[0m\n",
      "8| . . . # . . . # |8\n",
      "7| . . . # . . . # |7\n",
      "6| # . . # . . # . |6\n",
      "5| . # . # . # . . |5\n",
      "4| . . # # # . . . |4\n",
      "3| # # # . # # # # |3\n",
      "2| . . # # # . . . |2\n",
      "1| . # . # . # . . |1\n",
      "  ‾A̅‾B̅‾C̅‾D̅‾E̅‾F̅‾G̅‾H̅‾\n",
      "  \u001b[4m A B C D E F G H \u001b[0m\n",
      "8| k . . . . . . . |8\n",
      "7| . . . . . . . . |7\n",
      "6| . . . . . . . . |6\n",
      "5| . . . . . . . . |5\n",
      "4| . . . . . . . . |4\n",
      "3| . . . q . . . . |3\n",
      "2| . . . . . . . . |2\n",
      "1| . . K . . . . . |1\n",
      "  ‾A̅‾B̅‾C̅‾D̅‾E̅‾F̅‾G̅‾H̅‾\n",
      "(0, [])\n"
     ]
    }
   ],
   "source": [
    "board = Board(\"k7/8/8/8/8/3Q4/8/2K5 w - - 0 1\")\n",
    "# board = Board()\n",
    "tmp = [None for i in range(64)]\n",
    "\n",
    "for move in board.get_all_legal_moves_for_pos(43):\n",
    "    tmp[move] = \"#\"\n",
    "\n",
    "# for move in board.get_opponent_move_mask():\n",
    "#     tmp[move] = \"*\"\n",
    "\n",
    "board.display(tmp)\n",
    "board.display()\n",
    "print(board.num_king_pinned())"
   ]
  },
  {
   "cell_type": "code",
   "execution_count": 80,
   "metadata": {},
   "outputs": [],
   "source": [
    "def outside_border(total, pos, offset):\n",
    "    return ((total % 8 == 7 and ((pos % 8 == 0 and math.floor(total / 8) != math.floor(pos / 8)) or offset + pos % 8 == 0)) or\n",
    "            (total % 8 == 0 and ((pos % 8 == 7 and math.floor(total / 8) != math.floor(pos / 8)) or offset + pos % 8 == 7)) or\n",
    "            (math.floor(total / 8) == math.floor((offset + pos) / 8) and abs(total - (offset + pos)) > 1) or\n",
    "            ((math.floor(total / 8) + 2) == math.floor((offset + pos) / 8) and abs(total - (offset + pos)) > 1))\n"
   ]
  },
  {
   "cell_type": "code",
   "execution_count": 38,
   "metadata": {},
   "outputs": [
    {
     "name": "stdout",
     "output_type": "stream",
     "text": [
      "\n"
     ]
    }
   ],
   "source": [
    "outside_border(8)"
   ]
  }
 ],
 "metadata": {
  "kernelspec": {
   "display_name": "Python 3.10.4 64-bit",
   "language": "python",
   "name": "python3"
  },
  "language_info": {
   "codemirror_mode": {
    "name": "ipython",
    "version": 3
   },
   "file_extension": ".py",
   "mimetype": "text/x-python",
   "name": "python",
   "nbconvert_exporter": "python",
   "pygments_lexer": "ipython3",
   "version": "3.10.4"
  },
  "orig_nbformat": 4,
  "vscode": {
   "interpreter": {
    "hash": "7bd97ddf934c62eb53e45b27728dd5c1c7116d37bcca029015996c339ea10a61"
   }
  }
 },
 "nbformat": 4,
 "nbformat_minor": 2
}
